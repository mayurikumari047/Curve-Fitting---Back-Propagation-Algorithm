{
 "cells": [
  {
   "cell_type": "code",
   "execution_count": 1,
   "metadata": {},
   "outputs": [],
   "source": [
    "import random\n",
    "import math\n",
    "import matplotlib.pylab as pylab"
   ]
  },
  {
   "cell_type": "code",
   "execution_count": 2,
   "metadata": {},
   "outputs": [],
   "source": [
    "def generate_random_numbers_in_range(n, r_start, r_end):\n",
    "    random_numbers = list()\n",
    "    for i in range(n):\n",
    "        random_numbers.append(random.uniform(r_start, r_end))\n",
    "    return random_numbers\n",
    "\n",
    "\n",
    "def create_desired_output_list(n, X, V):\n",
    "    desired_output_list = list()\n",
    "    for i in range(n):\n",
    "        desired_output_list.append(math.sin(20 * X[i]) + (3 * X[i]) + (V[i]))\n",
    "    return desired_output_list\n"
   ]
  },
  {
   "cell_type": "code",
   "execution_count": 6,
   "metadata": {},
   "outputs": [],
   "source": [
    "def back_propagation(N, M, X, W_hidden_l, W_output_l, B_hidden_l, D):  # Backpropogation_function\n",
    "    eta = 0.01\n",
    "    epoch = 0\n",
    "    epochs_array = []\n",
    "    mse_array = []\n",
    "    output_neuron_bias = random.uniform(-1, 1)\n",
    "    while(True):\n",
    "        Y = list()  # Network output list\n",
    "        for i in range(N):\n",
    "            # Feed forward calculation\n",
    "            input_x = X[i]\n",
    "            V = list()  # hidden layer induced local field list\n",
    "            hidden_l_output_list = list()\n",
    "            output_l_inputs_and_weights = list()\n",
    "\n",
    "            for j in range(M):\n",
    "                v = (input_x * W_hidden_l[j]) + B_hidden_l[j]\n",
    "\n",
    "                V.append(v)\n",
    "\n",
    "                hidden_l_neuron_output = (math.tanh(v))\n",
    "\n",
    "                hidden_l_output_list.append(hidden_l_neuron_output)\n",
    "\n",
    "                temp = (hidden_l_neuron_output * W_output_l[j])\n",
    "\n",
    "                output_l_inputs_and_weights.append(temp)\n",
    "                \n",
    "            yi = 0  # Network output\n",
    "            for j in range(M):\n",
    "                yi += output_l_inputs_and_weights[j]\n",
    "            yi += output_neuron_bias\n",
    "            Y.append(yi)\n",
    "\n",
    "            # Back propagation of network\n",
    "            for j in range(M):\n",
    "                error_derivative = (-2 * (D[i] - yi))     # output error derivative\n",
    "                transfer_derivative = (1 - math.pow((math.tanh(V[j])), 2))    # transfer derivative of hidden layer neuron\n",
    "                W_hidden_l[j] = W_hidden_l[j] - (eta * error_derivative * transfer_derivative * input_x * W_output_l[j])    # hidden layer neuron weight update\n",
    "                B_hidden_l[j] = B_hidden_l[j] - (eta * error_derivative * transfer_derivative * W_output_l[j])   # hidden layer neuron bias update\n",
    "                W_output_l[j] = W_output_l[j] - (eta * error_derivative * hidden_l_output_list[j])   # output neuron weight update\n",
    "            output_neuron_bias = output_neuron_bias - (eta * error_derivative)\n",
    "        epoch = epoch + 1\n",
    "        epochs_array.append(epoch)\n",
    "        mse = 0\n",
    "        for i in range(N):\n",
    "            mse = mse + math.pow((D[i] - Y[i]), 2)\n",
    "        mse = mse / N\n",
    "        mse_array.append(mse)\n",
    "        #print(\"Epoch: \", epoch, \"  MSE: \", mse)\n",
    "        if (mse < 0.01):\n",
    "            break\n",
    "            \n",
    "    print(\"Last Epoch No: \", epoch, \"  MSE: \", mse)\n",
    "#     print(\"Network output list:\", Y)\n",
    "#     print(\" \")\n",
    "#     print(\"Hidden layer weights: \", W_hidden_l)\n",
    "#     print(\" \")\n",
    "#     print(\"Hidden layer biases: \", B_hidden_l)\n",
    "#     print(\" \")\n",
    "#     print(\"Output neuron weights: \", W_output_l)\n",
    "#     print(\" \")\n",
    "    plot_input_vs_desired_output_graph(X, D)\n",
    "    plot_input_output_curve_fit_graph(X, Y)\n",
    "    plot_epoch_vs_mse_graph(epochs_array, mse_array)\n"
   ]
  },
  {
   "cell_type": "code",
   "execution_count": 7,
   "metadata": {},
   "outputs": [],
   "source": [
    "def plot_input_vs_desired_output_graph(X, D):\n",
    "    pylab.plot(X, D, 'ro')\n",
    "\n",
    "\n",
    "def plot_input_output_curve_fit_graph(X, Y):\n",
    "    pylab.title(\"Input Output Curve Fitting on Desired Output\")\n",
    "    pylab.plot(X, Y, 'bo')\n",
    "    pylab.show()\n",
    "\n",
    "\n",
    "def plot_epoch_vs_mse_graph(epoch, mse):\n",
    "    pylab.title(\"Epoch VS MSE\")\n",
    "    pylab.plot(epoch, mse, 'o-')\n",
    "    pylab.show()"
   ]
  },
  {
   "cell_type": "code",
   "execution_count": 8,
   "metadata": {},
   "outputs": [
    {
     "name": "stdout",
     "output_type": "stream",
     "text": [
      "Last Epoch No:  1605   MSE:  0.009997314620223715\n"
     ]
    },
    {
     "data": {
      "image/png": "[encoded data removed]",
      "text/plain": [
       "<Figure size 432x288 with 1 Axes>"
      ]
     },
     "metadata": {},
     "output_type": "display_data"
    },
    {
     "data": {
      "image/png": "[encoded data removed]",
      "text/plain": [
       "<Figure size 432x288 with 1 Axes>"
      ]
     },
     "metadata": {},
     "output_type": "display_data"
    }
   ],
   "source": [
    "n = 300  # Number of inputs\n",
    "m = 24  # Number of neurons in hidden layer\n",
    "\n",
    "X = generate_random_numbers_in_range(n, 0, 1)   # Generates inputs X\n",
    "V = generate_random_numbers_in_range(n, -1/10, 1/10)  # Generates V\n",
    "D = create_desired_output_list(n, X, V)  # Calculating desired outputs with IO Relationship\n",
    "\n",
    "# Generating hidden layer weights and bias and output layer weights\n",
    "W_hidden_layer = generate_random_numbers_in_range(m, -10, 10)\n",
    "W_output_layer = generate_random_numbers_in_range(m, -10, 10)\n",
    "B_hidden_layer = generate_random_numbers_in_range(m, -5, 5)\n",
    "\n",
    "back_propagation(n, m, X, W_hidden_layer, W_output_layer, B_hidden_layer, D)"
   ]
  },
  {
   "cell_type": "code",
   "execution_count": null,
   "metadata": {},
   "outputs": [],
   "source": []
  }
 ],
 "metadata": {
  "kernelspec": {
   "display_name": "Python 3",
   "language": "python",
   "name": "python3"
  },
  "language_info": {
   "codemirror_mode": {
    "name": "ipython",
    "version": 3
   },
   "file_extension": ".py",
   "mimetype": "text/x-python",
   "name": "python",
   "nbconvert_exporter": "python",
   "pygments_lexer": "ipython3",
   "version": "3.6.5"
  }
 },
 "nbformat": 4,
 "nbformat_minor": 2
}
